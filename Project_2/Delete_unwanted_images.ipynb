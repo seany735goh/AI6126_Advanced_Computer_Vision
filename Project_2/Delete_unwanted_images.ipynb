{
 "cells": [
  {
   "cell_type": "code",
   "execution_count": 3,
   "id": "ee16733f",
   "metadata": {
    "ExecuteTime": {
     "end_time": "2023-04-30T11:05:59.810204Z",
     "start_time": "2023-04-30T11:05:59.183750Z"
    }
   },
   "outputs": [
    {
     "name": "stdout",
     "output_type": "stream",
     "text": [
      "4800 images deleted\n"
     ]
    }
   ],
   "source": [
    "import numpy as np\n",
    "import cv2\n",
    "import os\n",
    "import re\n",
    "import sys\n",
    "from pathlib import Path\n",
    "\n",
    "count = 0\n",
    "if __name__ == \"__main__\":\n",
    "    # get directory path where the images are stored\n",
    "    read_path = \"./mmediting/work_dirs/srresnet_ffhq_500k_v8/20230422_015541/vis_data/vis_image/\"\n",
    "    # Change above after running\n",
    "    \n",
    "    count = 0\n",
    "    #iterate through all the files in the image directory\n",
    "    for file in os.listdir(read_path):\n",
    "        if re.search('P*_5000.png', file) or \\\n",
    "           re.search('P*_50000.png', file) or \\\n",
    "           re.search('P*_100000.png', file) or \\\n",
    "           re.search('P*_150000.png', file) or \\\n",
    "           re.search('P*_200000.png', file) or \\\n",
    "           re.search('P*_250000.png', file) or \\\n",
    "           re.search('P*_300000.png', file) or \\\n",
    "           re.search('P*_350000.png', file) or \\\n",
    "           re.search('P*_400000.png', file) or \\\n",
    "           re.search('P*_450000.png', file) or \\\n",
    "           re.search('P*_500000.png', file):\n",
    "            continue # keep file\n",
    "            \n",
    "        else:\n",
    "            os.remove(os.path.join(read_path, file)) # delete file\n",
    "            count +=1\n",
    "    \n",
    "    print(f'{count} images deleted')"
   ]
  }
 ],
 "metadata": {
  "kernelspec": {
   "display_name": "Python 3 (ipykernel)",
   "language": "python",
   "name": "python3"
  },
  "language_info": {
   "codemirror_mode": {
    "name": "ipython",
    "version": 3
   },
   "file_extension": ".py",
   "mimetype": "text/x-python",
   "name": "python",
   "nbconvert_exporter": "python",
   "pygments_lexer": "ipython3",
   "version": "3.9.12"
  }
 },
 "nbformat": 4,
 "nbformat_minor": 5
}
